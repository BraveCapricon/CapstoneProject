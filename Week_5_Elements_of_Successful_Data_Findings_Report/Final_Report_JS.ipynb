{
 "cells": [
  {
   "cell_type": "code",
   "execution_count": 1,
   "metadata": {},
   "outputs": [],
   "source": [
    "import pandas as pd"
   ]
  },
  {
   "cell_type": "markdown",
   "metadata": {},
   "source": [
    "# Grading Criteria:\n",
    "\n",
    "- Uploaded the URL of your GitHub repository including all the completed notebooks and Python files **(1 pt)**\n",
    "\n",
    "- Uploaded your completed presentation in PDF format **(1 pt)**\n",
    "\n",
    "- Completed the required Executive Summary slide **(1 pt)**\n",
    "\n",
    "- Completed the required Introduction slide **(1 pt)**\n",
    "\n",
    "- Completed the required data collection and data wrangling methodology related slides **(1 pt)**\n",
    "\n",
    "- Completed the required EDA and interactive visual analytics methodology related slides **(3 pts)**\n",
    "\n",
    "- Completed the required predictive analysis methodology related slides **(1 pt)**\n",
    "\n",
    "- Completed the required EDA with visualization results slides **(6 pts)**\n",
    "\n",
    "- Completed the required EDA with SQL results slides **(10 pts)**\n",
    "\n",
    "- Completed the required interactive map with Folium results slides **(3 pts)**\n",
    "\n",
    "- Completed the required Plotly Dash dashboard results slides **(3 pts)**\n",
    "\n",
    "- Completed the required predictive analysis (classification) results slides **(6 pts)**\n",
    "\n",
    "- Completed the required Conclusion slide **(1 pts)**\n",
    "\n",
    "- Applied your creativity to improve the presentation beyond the template **(1 pts)**\n",
    "\n",
    "- Displayed any innovative insights **(1 pts)**\n",
    "\n",
    "- You will not be judged on:\n",
    "  - Your English language, including spelling or grammatical mistakes\n",
    "  - The content of any text or image(s) or where a link is hyperlinked to"
   ]
  }
 ],
 "metadata": {
  "kernelspec": {
   "display_name": "base",
   "language": "python",
   "name": "python3"
  },
  "language_info": {
   "codemirror_mode": {
    "name": "ipython",
    "version": 3
   },
   "file_extension": ".py",
   "mimetype": "text/x-python",
   "name": "python",
   "nbconvert_exporter": "python",
   "pygments_lexer": "ipython3",
   "version": "3.9.13"
  }
 },
 "nbformat": 4,
 "nbformat_minor": 2
}
